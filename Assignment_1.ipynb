{
 "cells": [
  {
   "cell_type": "raw",
   "id": "5314fe16",
   "metadata": {},
   "source": [
    "#1 Question\n",
    "\n",
    "expression (*)\n",
    "value ('hello')\n",
    "value (-87.8)\n",
    "expression (-)\n",
    "expression (/)\n",
    "expression (+)\n",
    "value (6)"
   ]
  },
  {
   "cell_type": "raw",
   "id": "20041314",
   "metadata": {},
   "source": [
    "#2nd Question\n",
    "\n",
    "String is a data type which is enclosed in single, double or thrible quotes.\n",
    "Variable is used to store data of different types.\n",
    "\n",
    "Ex: a=\"Sneha\"\n",
    "Here, a is variable name that stores a string 'Sneha'"
   ]
  },
  {
   "cell_type": "raw",
   "id": "8736f5ec",
   "metadata": {},
   "source": [
    "#3rd Question\n",
    "\n",
    "1.int- int is a data type that is used to represent integer values(Ex:10)\n",
    "2.float- float is a data type that is used to represent floating values(Ex:10.3)\n",
    "3.String- string is a data type that is used to represent string values(Ex:\"Sneha\")"
   ]
  },
  {
   "cell_type": "raw",
   "id": "4cf43401",
   "metadata": {},
   "source": [
    "#4th Question\n",
    "\n",
    "Expressions contains values and mathematical operators, that are used to evalute the values.\n",
    "Ex: 4+6+2(Expression)\n",
    "    12   (evaluation of expression) "
   ]
  },
  {
   "cell_type": "raw",
   "id": "38f68b91",
   "metadata": {},
   "source": [
    "#5th Question\n",
    "\n",
    "spam=10 is assignment statement, it didn't print anything but it assigns value 10 to spam variable\n",
    "Whereas, Expressions(2+3) contains values and mathematical operators, that are used to evalute the values."
   ]
  },
  {
   "cell_type": "code",
   "execution_count": 1,
   "id": "02490349",
   "metadata": {},
   "outputs": [
    {
     "data": {
      "text/plain": [
       "23"
      ]
     },
     "execution_count": 1,
     "metadata": {},
     "output_type": "execute_result"
    }
   ],
   "source": [
    "#6th Question\n",
    "\n",
    "bacon = 22\n",
    "bacon + 1"
   ]
  },
  {
   "cell_type": "code",
   "execution_count": 5,
   "id": "5ad7a983",
   "metadata": {},
   "outputs": [
    {
     "name": "stdout",
     "output_type": "stream",
     "text": [
      "spamspamspam\n",
      "spamspamspam\n"
     ]
    }
   ],
   "source": [
    "#7th Question\n",
    "\n",
    "print('spam'+'spamspam')\n",
    "print('spam'*3)"
   ]
  },
  {
   "cell_type": "raw",
   "id": "ec762ea3",
   "metadata": {},
   "source": [
    "#8th Question\n",
    "\n",
    "Variable names should not starts with numbers, but it can start with alphabets.\n",
    "That's why egg is valid variable name, 100 is a invalid variable name."
   ]
  },
  {
   "cell_type": "code",
   "execution_count": 7,
   "id": "f66551a3",
   "metadata": {},
   "outputs": [
    {
     "name": "stdout",
     "output_type": "stream",
     "text": [
      "10\n",
      "10.0\n",
      "10\n"
     ]
    }
   ],
   "source": [
    "#9th Question\n",
    "\n",
    "a=10\n",
    "print(int(a))  #int(value)==> to get integer version of value\n",
    "print(float(a))#float(value)==> to get float version of value\n",
    "print(str(a))  #str(value)==> to get string version of value"
   ]
  },
  {
   "cell_type": "code",
   "execution_count": 8,
   "id": "40e6838e",
   "metadata": {},
   "outputs": [
    {
     "ename": "TypeError",
     "evalue": "can only concatenate str (not \"int\") to str",
     "output_type": "error",
     "traceback": [
      "\u001b[1;31m---------------------------------------------------------------------------\u001b[0m",
      "\u001b[1;31mTypeError\u001b[0m                                 Traceback (most recent call last)",
      "\u001b[1;32m~\\AppData\\Local\\Temp/ipykernel_9472/78294627.py\u001b[0m in \u001b[0;36m<module>\u001b[1;34m\u001b[0m\n\u001b[0;32m      1\u001b[0m \u001b[1;31m#10th Question\u001b[0m\u001b[1;33m\u001b[0m\u001b[1;33m\u001b[0m\u001b[0m\n\u001b[0;32m      2\u001b[0m \u001b[1;33m\u001b[0m\u001b[0m\n\u001b[1;32m----> 3\u001b[1;33m \u001b[1;34m'I have eaten'\u001b[0m \u001b[1;33m+\u001b[0m \u001b[1;36m99\u001b[0m \u001b[1;33m+\u001b[0m \u001b[1;34m'burritos.'\u001b[0m \u001b[1;31m# It raises error because, here we are trying to concatenate string values to integer value.\u001b[0m\u001b[1;33m\u001b[0m\u001b[1;33m\u001b[0m\u001b[0m\n\u001b[0m",
      "\u001b[1;31mTypeError\u001b[0m: can only concatenate str (not \"int\") to str"
     ]
    }
   ],
   "source": [
    "#10th Question\n",
    "\n",
    "'I have eaten' + 99 + 'burritos.' # It raises error because, here we are trying to concatenate string values to integer value."
   ]
  },
  {
   "cell_type": "code",
   "execution_count": 10,
   "id": "f53705ea",
   "metadata": {},
   "outputs": [
    {
     "data": {
      "text/plain": [
       "'I have eaten99burritos.'"
      ]
     },
     "execution_count": 10,
     "metadata": {},
     "output_type": "execute_result"
    }
   ],
   "source": [
    "#Solution\n",
    "\n",
    "#to solve the above error, convert integer value to string value\n",
    "\n",
    "'I have eaten' + str(99) + 'burritos.'"
   ]
  },
  {
   "cell_type": "code",
   "execution_count": null,
   "id": "6158d1fb",
   "metadata": {},
   "outputs": [],
   "source": []
  }
 ],
 "metadata": {
  "kernelspec": {
   "display_name": "Python 3 (ipykernel)",
   "language": "python",
   "name": "python3"
  },
  "language_info": {
   "codemirror_mode": {
    "name": "ipython",
    "version": 3
   },
   "file_extension": ".py",
   "mimetype": "text/x-python",
   "name": "python",
   "nbconvert_exporter": "python",
   "pygments_lexer": "ipython3",
   "version": "3.9.7"
  }
 },
 "nbformat": 4,
 "nbformat_minor": 5
}
